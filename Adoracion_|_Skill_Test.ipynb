{
  "nbformat": 4,
  "nbformat_minor": 0,
  "metadata": {
    "colab": {
      "provenance": [],
      "authorship_tag": "ABX9TyNTmDPrAEYIjnMiL5qhpPLF",
      "include_colab_link": true
    },
    "kernelspec": {
      "name": "python3",
      "display_name": "Python 3"
    },
    "language_info": {
      "name": "python"
    }
  },
  "cells": [
    {
      "cell_type": "markdown",
      "metadata": {
        "id": "view-in-github",
        "colab_type": "text"
      },
      "source": [
        "<a href=\"https://colab.research.google.com/github/Adoracion0824/CPE-201L---CPE-2-_-B/blob/main/Adoracion_%7C_Skill_Test.ipynb\" target=\"_parent\"><img src=\"https://colab.research.google.com/assets/colab-badge.svg\" alt=\"Open In Colab\"/></a>"
      ]
    },
    {
      "cell_type": "code",
      "execution_count": 26,
      "metadata": {
        "colab": {
          "base_uri": "https://localhost:8080/"
        },
        "id": "SjBWsWD4BOG3",
        "outputId": "bd9b130d-5ecc-4572-aef4-18a3d64fde1d"
      },
      "outputs": [
        {
          "output_type": "stream",
          "name": "stdout",
          "text": [
            "My first name is:\n",
            "['J', 'E', 'R', 'I', 'C', 'K']\n",
            "\n",
            "My second name is:\n",
            "['D', 'A', 'V', 'E']\n",
            "\n",
            "My middle name is:\n",
            "['D', 'O', 'N', 'O']\n",
            "\n",
            "My last name is:\n",
            "['A', 'D', 'O', 'R', 'A', 'C', 'I', 'O', 'N']\n",
            "\n",
            "My full name is:\n",
            "['J', 'E', 'R', 'I', 'C', 'K', '_', 'D', 'A', 'V', 'E', '_', 'D', 'O', 'N', 'O', '_', 'A', 'D', 'O', 'R', 'A', 'C', 'I', 'O', 'N']\n",
            "\n",
            "As single string:\n",
            "JERICK_DAVE_DONO_ADORACION\n",
            "\n",
            "Traversing each character array:\n",
            "  INDEX  | CHARACTER \n",
            "----------------------\n",
            "Index  0 | 'J'\n",
            "Index  1 | 'E'\n",
            "Index  2 | 'R'\n",
            "Index  3 | 'I'\n",
            "Index  4 | 'C'\n",
            "Index  5 | 'K'\n",
            "Index  6 | '_'\n",
            "Index  7 | 'D'\n",
            "Index  8 | 'A'\n",
            "Index  9 | 'V'\n",
            "Index 10 | 'E'\n",
            "Index 11 | '_'\n",
            "Index 12 | 'D'\n",
            "Index 13 | 'O'\n",
            "Index 14 | 'N'\n",
            "Index 15 | 'O'\n",
            "Index 16 | '_'\n",
            "Index 17 | 'A'\n",
            "Index 18 | 'D'\n",
            "Index 19 | 'O'\n",
            "Index 20 | 'R'\n",
            "Index 21 | 'A'\n",
            "Index 22 | 'C'\n",
            "Index 23 | 'I'\n",
            "Index 24 | 'O'\n",
            "Index 25 | 'N'\n",
            "\n",
            "Total characters: 26\n"
          ]
        }
      ],
      "source": [
        "#My full name is Jerick Dave Dono Adoracion\n",
        "#first name\n",
        "fname_array =(\"JERICK\")\n",
        "first_name_array = []\n",
        "for x, i in enumerate(fname_array):\n",
        "  first_name_array.append(i)\n",
        "\n",
        "print(\"My first name is:\")\n",
        "print(first_name_array)\n",
        "\n",
        "#second name\n",
        "sname_array =(\"DAVE\")\n",
        "second_name_array = []\n",
        "for x, i in enumerate(sname_array):\n",
        "  second_name_array.append(i)\n",
        "\n",
        "\n",
        "print(\"\\nMy second name is:\")\n",
        "print(second_name_array)\n",
        "\n",
        "#middle name\n",
        "mname_array =(\"DONO\")\n",
        "middle_name_array = []\n",
        "for x, i in enumerate(mname_array):\n",
        "  middle_name_array.append(i)\n",
        "\n",
        "\n",
        "print(\"\\nMy middle name is:\")\n",
        "print(middle_name_array)\n",
        "\n",
        "#last name\n",
        "lname_array =(\"ADORACION\")\n",
        "last_name_array = []\n",
        "for x, i in enumerate(lname_array):\n",
        "  last_name_array.append(i)\n",
        "\n",
        "\n",
        "print(\"\\nMy last name is:\")\n",
        "print(last_name_array)\n",
        "\n",
        "full_name_array = first_name_array + ['_'] + second_name_array + ['_'] + middle_name_array + ['_'] + last_name_array\n",
        "\n",
        "print(\"\\nMy full name is:\")\n",
        "print(full_name_array)\n",
        "\n",
        "print(\"\\nAs single string:\")\n",
        "full_string = ''.join(full_name_array)\n",
        "print(full_string)\n",
        "\n",
        "def traverse(array):\n",
        "    print(\"\\nTraversing each character array:\")\n",
        "    print(\"  INDEX  | CHARACTER \")\n",
        "    print(\"-\" * 22)\n",
        "    for index, char in enumerate(array):\n",
        "        print(f\"Index{index:3} | '{char}'\")\n",
        "\n",
        "traverse(full_name_array)\n",
        "\n",
        "\n",
        "print(f\"\\nTotal characters: {len(full_name_array)}\")"
      ]
    }
  ]
}