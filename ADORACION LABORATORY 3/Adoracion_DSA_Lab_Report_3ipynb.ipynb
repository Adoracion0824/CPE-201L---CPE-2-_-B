{
  "nbformat": 4,
  "nbformat_minor": 0,
  "metadata": {
    "colab": {
      "provenance": [],
      "authorship_tag": "ABX9TyO/MIHgaOcjJD22q37pj1ZA",
      "include_colab_link": true
    },
    "kernelspec": {
      "name": "python3",
      "display_name": "Python 3"
    },
    "language_info": {
      "name": "python"
    }
  },
  "cells": [
    {
      "cell_type": "markdown",
      "metadata": {
        "id": "view-in-github",
        "colab_type": "text"
      },
      "source": [
        "<a href=\"https://colab.research.google.com/github/Adoracion0824/CPE-201L---CPE-2-_-B/blob/main/Adoracion_DSA_Lab_Report_3ipynb.ipynb\" target=\"_parent\"><img src=\"https://colab.research.google.com/assets/colab-badge.svg\" alt=\"Open In Colab\"/></a>"
      ]
    },
    {
      "cell_type": "code",
      "execution_count": null,
      "metadata": {
        "id": "ndvc1KuPAOus",
        "colab": {
          "base_uri": "https://localhost:8080/"
        },
        "outputId": "524fa245-5eb3-4d20-cfcd-8c4c84f78166"
      },
      "outputs": [
        {
          "output_type": "stream",
          "name": "stdout",
          "text": [
            "The sum of even test scores: 186\n"
          ]
        }
      ],
      "source": [
        "#Lab Activity 3\n",
        "sum_of_evens = 0\n",
        "scores = [26, 49, 98, 87, 62, 75]\n",
        "\n",
        "\n",
        "for score in scores:\n",
        "    # Check if score is even\n",
        "    if score % 2 == 0:\n",
        "      sum_of_evens += score\n",
        "\n",
        "#Hi ma'am hehe\n",
        "print( \"The sum of even test scores:\", sum_of_evens)"
      ]
    },
    {
      "cell_type": "markdown",
      "source": [],
      "metadata": {
        "id": "cXqh0jXVVaAU"
      }
    }
  ]
}