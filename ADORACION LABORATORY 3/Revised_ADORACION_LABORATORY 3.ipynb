{
  "cells": [
    {
      "cell_type": "markdown",
      "metadata": {
        "id": "view-in-github",
        "colab_type": "text"
      },
      "source": [
        "<a href=\"https://colab.research.google.com/github/Adoracion0824/CPE-201L---CPE-2-_-B/blob/main/Revised_ADORACION_LABORATORY%203.ipynb\" target=\"_parent\"><img src=\"https://colab.research.google.com/assets/colab-badge.svg\" alt=\"Open In Colab\"/></a>"
      ]
    },
    {
      "cell_type": "markdown",
      "source": [
        "This source code is the better version of the first one, showing the Odd numbers in the Odd room and showing the output \"Sum of even numbers:\"\n"
      ],
      "metadata": {
        "id": "2733LJLtjQ_y"
      }
    },
    {
      "cell_type": "code",
      "source": [
        "# Lab Activity 3\n",
        "\n",
        "sum_of_evens = 0\n",
        "scores = [26, 49, 98, 87, 62, 75]\n",
        "\n",
        "odd_room = []\n",
        "\n",
        "# Store odd numbers into the odd room\n",
        "for number in scores:\n",
        "    if number % 2 != 0:  # Check if the number is odd\n",
        "        odd_room.append(number)\n",
        "\n",
        "# Sum all even numbers\n",
        "for score in scores:\n",
        "    if score % 2 == 0:\n",
        "        sum_of_evens += score\n",
        "\n",
        "# Display the contents of the odd room\n",
        "print(\"Odd Room contains:\")\n",
        "print(odd_room)\n",
        "\n",
        "# Optional: print the sum of even numbers\n",
        "print(\"Sum of even numbers:\", sum_of_evens)\n"
      ],
      "metadata": {
        "id": "RW6sLdNahs5q",
        "outputId": "b2feb957-662e-493b-ba84-c7786d93acc7",
        "colab": {
          "base_uri": "https://localhost:8080/"
        }
      },
      "execution_count": null,
      "outputs": [
        {
          "output_type": "stream",
          "name": "stdout",
          "text": [
            "Odd Room contains:\n",
            "[49, 87, 75]\n",
            "Sum of even numbers: 186\n"
          ]
        }
      ]
    }
  ],
  "metadata": {
    "colab": {
      "toc_visible": true,
      "provenance": [],
      "include_colab_link": true
    },
    "kernelspec": {
      "display_name": "Python 3",
      "name": "python3"
    }
  },
  "nbformat": 4,
  "nbformat_minor": 0
}