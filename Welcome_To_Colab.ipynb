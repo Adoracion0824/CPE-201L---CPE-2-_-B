{
  "cells": [
    {
      "cell_type": "markdown",
      "metadata": {
        "id": "view-in-github",
        "colab_type": "text"
      },
      "source": [
        "<a href=\"https://colab.research.google.com/github/Adoracion0824/CPE-201L---CPE-2-_-B/blob/main/Welcome_To_Colab.ipynb\" target=\"_parent\"><img src=\"https://colab.research.google.com/assets/colab-badge.svg\" alt=\"Open In Colab\"/></a>"
      ]
    },
    {
      "cell_type": "code",
      "source": [
        "queue = []\n",
        "\n",
        "# Function to check if queue is empty\n",
        "def is_queue_empty():\n",
        "    return len(queue) == 0\n",
        "\n",
        "# enqueue items into queue\n",
        "queue.append('A')\n",
        "queue.append('B')\n",
        "queue.append('C')\n",
        "print(\"Queue after enqueue:\", queue)\n",
        "\n",
        "# dequeue items from the queue\n",
        "print(\"\\nDequeued:\", queue.pop(0))\n",
        "print(\"\\nDequeued:\", queue.pop(0))\n",
        "print(\"\\nDequeued:\", queue.pop(0))\n",
        "\n",
        "# Check if queue is empty\n",
        "print(\"\\nQueue after dequeue:\", queue)\n",
        "if is_queue_empty():\n",
        "    print(\"\\nThe queue is now empty\")\n",
        "else:\n",
        "    print(\"\\nThe queue is not empty\")"
      ],
      "metadata": {
        "id": "jajQYMZFHJYO",
        "outputId": "0d33a6b3-32d0-4571-c77e-7045b9604203",
        "colab": {
          "base_uri": "https://localhost:8080/"
        }
      },
      "execution_count": 9,
      "outputs": [
        {
          "output_type": "stream",
          "name": "stdout",
          "text": [
            "Queue after enqueue: ['A', 'B', 'C']\n",
            "\n",
            "Dequeued: A\n",
            "\n",
            "Dequeued: B\n",
            "\n",
            "Dequeued: C\n",
            "\n",
            "Queue after dequeue: []\n",
            "\n",
            "The queue is now empty\n"
          ]
        }
      ]
    }
  ],
  "metadata": {
    "colab": {
      "name": "Welcome To Colab",
      "toc_visible": true,
      "provenance": [],
      "include_colab_link": true
    },
    "kernelspec": {
      "display_name": "Python 3",
      "name": "python3"
    }
  },
  "nbformat": 4,
  "nbformat_minor": 0
}