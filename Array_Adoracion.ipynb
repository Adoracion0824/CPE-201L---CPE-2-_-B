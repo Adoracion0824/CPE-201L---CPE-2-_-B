{
  "cells": [
    {
      "cell_type": "markdown",
      "metadata": {
        "id": "view-in-github",
        "colab_type": "text"
      },
      "source": [
        "<a href=\"https://colab.research.google.com/github/Adoracion0824/CPE-201L---CPE-2-_-B/blob/main/Array_Adoracion.ipynb\" target=\"_parent\"><img src=\"https://colab.research.google.com/assets/colab-badge.svg\" alt=\"Open In Colab\"/></a>"
      ]
    },
    {
      "cell_type": "markdown",
      "source": [
        "This source code shows different functions built inside Array, such as traverse, reverse, sort, insert, delete, and modify.\n"
      ],
      "metadata": {
        "id": "2733LJLtjQ_y"
      }
    },
    {
      "cell_type": "markdown",
      "source": [],
      "metadata": {
        "id": "X_O0fxOumWyS"
      }
    },
    {
      "cell_type": "code",
      "source": [
        "#traverse()\n",
        "def traverse_array(arr):\n",
        "    \"\"\"Function to traverse and print all elements in the array\"\"\"\n",
        "    print(\"Traversing the array:\")\n",
        "    for i, element in enumerate(arr):\n",
        "        print(f\"Index {i}: {element}\")\n",
        "\n",
        "#reverse()\n",
        "def reverse(arr):\n",
        "    reversed_arr = arr[::-1]\n",
        "    print(reversed_arr)\n",
        "\n",
        "#sort()\n",
        "def sort(arr):\n",
        "    \"\"\"Sort the array in ascending order\"\"\"\n",
        "    arr.sort()\n",
        "    print(\"Array sorted:\", arr)\n",
        "\n",
        "#insert()\n",
        "def insert(arr):\n",
        "    \"\"\"Insert a new element at a specific position\"\"\"\n",
        "    try:\n",
        "        value = int(input(\"Enter the value to insert: \"))\n",
        "        index = int(input(\"Enter the index to insert at: \"))\n",
        "        if index < 0 or index > len(arr):\n",
        "            print(\"Invalid index.\")\n",
        "        else:\n",
        "            arr.insert(index, value)\n",
        "            print(\"Array after insertion:\", arr)\n",
        "    except ValueError:\n",
        "        print(\"Please enter valid integers.\")\n",
        "\n",
        "\n",
        "#delete()\n",
        "def delete(arr):\n",
        "    \"\"\"Delete an element at a specific index\"\"\"\n",
        "    try:\n",
        "        index = int(input(\"Enter the index to delete: \"))\n",
        "        if index < 0 or index >= len(arr):\n",
        "            print(\"Invalid index.\")\n",
        "        else:\n",
        "            removed = arr.pop(index)\n",
        "            print(f\"Deleted {removed} from index {index}.\")\n",
        "            print(\"Array after deletion:\", arr)\n",
        "    except ValueError:\n",
        "        print(\"Please enter a valid integer.\")\n",
        "\n",
        "\n",
        "#modify()\n",
        "def modify(arr):\n",
        "    \"\"\"Modify an element at a specific index\"\"\"\n",
        "    try:\n",
        "        index = int(input(\"Enter the index to modify: \"))\n",
        "        if index < 0 or index >= len(arr):\n",
        "            print(\"Invalid index.\")\n",
        "        else:\n",
        "            new_value = int(input(\"Enter the new value: \"))\n",
        "            arr[index] = new_value\n",
        "            print(\"Array after modification:\", arr)\n",
        "    except ValueError:\n",
        "        print(\"Please enter valid integers.\")\n",
        "\n",
        "def main():\n",
        "    # Initialize an array\n",
        "    arr = [10, 20, 30, 40, 50]\n",
        "    print(\"Original array:\", arr)\n",
        "\n",
        "    while True:\n",
        "        print(\"\\nMenu:\")\n",
        "        print(\"1. Traverse array\")\n",
        "        print(\"2. Reverse array\")\n",
        "        print(\"3. Sort array\")\n",
        "        print(\"4. Insert array\")\n",
        "        print(\"5. Delete array\")\n",
        "        print(\"6. Modify array\")\n",
        "        print(\"7. Exit\")\n",
        "        choice = input(\"Enter your choice (1 to 7): \")\n",
        "\n",
        "        if choice == '1':\n",
        "            traverse_array(arr)\n",
        "\n",
        "        elif choice == '2':\n",
        "            reverse(arr)\n",
        "\n",
        "        elif choice == '3':\n",
        "            sort(arr)7\n",
        "\n",
        "\n",
        "        elif choice == '4':\n",
        "            insert(arr)\n",
        "\n",
        "        elif choice == '5':\n",
        "            delete(arr)\n",
        "\n",
        "        elif choice == '6':\n",
        "            modify(arr)\n",
        "\n",
        "        else:\n",
        "\n",
        "          print(\"Invalid choice. Please enter a number between 1 to 7.\")\n",
        "\n",
        "\n",
        "#okie na ma'am :3\n",
        "\n",
        "if __name__ == \"__main__\":\n",
        "    main()\n",
        "\n",
        ""
      ],
      "metadata": {
        "id": "2QB5tPKbmaX6",
        "outputId": "824659d4-4adf-47a9-e9d4-333edc28e81c",
        "colab": {
          "base_uri": "https://localhost:8080/"
        }
      },
      "execution_count": null,
      "outputs": [
        {
          "output_type": "stream",
          "name": "stdout",
          "text": [
            "Original array: [10, 20, 30, 40, 50]\n",
            "\n",
            "Menu:\n",
            "1. Traverse array\n",
            "2. Reverse array\n",
            "3. Sort array\n",
            "4. Insert array\n",
            "5. Delete array\n",
            "6. Modify array\n",
            "7. Exit\n",
            "Enter your choice (1 to 7): 7\n",
            "Invalid choice. Please enter a number between 1 to 7.\n",
            "\n",
            "Menu:\n",
            "1. Traverse array\n",
            "2. Reverse array\n",
            "3. Sort array\n",
            "4. Insert array\n",
            "5. Delete array\n",
            "6. Modify array\n",
            "7. Exit\n"
          ]
        }
      ]
    }
  ],
  "metadata": {
    "colab": {
      "name": "Welcome To Colab",
      "toc_visible": true,
      "provenance": [],
      "include_colab_link": true
    },
    "kernelspec": {
      "display_name": "Python 3",
      "name": "python3"
    }
  },
  "nbformat": 4,
  "nbformat_minor": 0
}