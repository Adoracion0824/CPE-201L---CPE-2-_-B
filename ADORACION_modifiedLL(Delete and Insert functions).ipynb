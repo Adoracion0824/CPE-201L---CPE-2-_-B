{
  "nbformat": 4,
  "nbformat_minor": 0,
  "metadata": {
    "colab": {
      "provenance": [],
      "include_colab_link": true
    },
    "kernelspec": {
      "name": "python3",
      "display_name": "Python 3"
    },
    "language_info": {
      "name": "python"
    }
  },
  "cells": [
    {
      "cell_type": "markdown",
      "metadata": {
        "id": "view-in-github",
        "colab_type": "text"
      },
      "source": [
        "<a href=\"https://colab.research.google.com/github/Adoracion0824/CPE-201L---CPE-2-_-B/blob/main/ADORACION_modifiedLL(Delete%20and%20Insert%20functions).ipynb\" target=\"_parent\"><img src=\"https://colab.research.google.com/assets/colab-badge.svg\" alt=\"Open In Colab\"/></a>"
      ]
    },
    {
      "cell_type": "markdown",
      "source": [
        "***Removing the second node (B)***"
      ],
      "metadata": {
        "id": "fUH3Qav6edOE"
      }
    },
    {
      "cell_type": "code",
      "execution_count": 30,
      "metadata": {
        "colab": {
          "base_uri": "https://localhost:8080/"
        },
        "id": "9M4KTEtzrNBL",
        "outputId": "56bc62c0-af53-4bef-fe02-2ce14ff76fdc"
      },
      "outputs": [
        {
          "output_type": "stream",
          "name": "stdout",
          "text": [
            "Original list:\n",
            "A\n",
            "B\n",
            "C\n",
            "D\n",
            "\n",
            "After deleting the second node 'B',  the result is:\n",
            "A\n",
            "C\n",
            "D\n"
          ]
        }
      ],
      "source": [
        "# Node class\n",
        "class Node:\n",
        "\n",
        "    # Function to initialize the node object\n",
        "    def __init__(self, data):\n",
        "        self.data = data # Assign data\n",
        "        self.next = None # Initialize\n",
        "                        # next as null\n",
        "\n",
        "# Linked List class\n",
        "class LinkedList:\n",
        "\n",
        "    # Function to initialize the Linked\n",
        "    # List object\n",
        "    def __init__(self):\n",
        "        self.head = None\n",
        "    def print_data(self):\n",
        "      current =self.head\n",
        "      while current:\n",
        "        print(current.data)\n",
        "        current=current.next\n",
        "\n",
        "    def delete_node(self, key):\n",
        "        current = self.head\n",
        "        previous = None\n",
        "\n",
        "\n",
        "        if current is not None and current.data == key:\n",
        "            self.head = current.next\n",
        "            current = None\n",
        "            return\n",
        "\n",
        "\n",
        "        while current is not None and current.data != key:\n",
        "            previous = current\n",
        "            current = current.next\n",
        "\n",
        "\n",
        "        if current is None:\n",
        "            print(f\"Node with data '{key}' not found.\")\n",
        "            return\n",
        "\n",
        "        # Unlink the node from the linked list\n",
        "        previous.next = current.next\n",
        "        current = None\n",
        "\n",
        "if __name__=='__main__':\n",
        "# Start with the empty list\n",
        "    llist = LinkedList()\n",
        "\n",
        "    llist.head = Node(\"A\")  #object name1\n",
        "    second = Node(\"B\")        #object name2\n",
        "    third = Node(\"C\")\n",
        "    fourth = Node(\"D\")\n",
        "\n",
        "    llist.head.next = second # Link first node with second\n",
        "    second.next = third # Link second node with the third node\n",
        "    third.next = fourth #Link third to fourth\n",
        "\n",
        "    print(\"Original list:\")\n",
        "    llist.print_data()\n",
        "\n",
        "    # Delete a node (\"B\")\n",
        "    llist.delete_node(\"B\")\n",
        "    print(\"\\nAfter deleting the second node 'B',  the result is:\")\n",
        "    llist.print_data()"
      ]
    },
    {
      "cell_type": "markdown",
      "source": [
        "***Inserting 'E' at the end***"
      ],
      "metadata": {
        "id": "sQx3ndbVio_G"
      }
    },
    {
      "cell_type": "code",
      "source": [
        "# Node class\n",
        "class Node:\n",
        "    def __init__(self, data):\n",
        "        self.data = data\n",
        "        self.next = None\n",
        "\n",
        "# Linked List class\n",
        "class LinkedList:\n",
        "    def __init__(self):\n",
        "        self.head = None\n",
        "\n",
        "    def print_data(self):\n",
        "        current = self.head\n",
        "        while current:\n",
        "            print(current.data)\n",
        "            current = current.next\n",
        "\n",
        "    def insert_at_end(self, data):\n",
        "        new_node = Node(data)\n",
        "        if self.head is None:\n",
        "            self.head = new_node\n",
        "            return\n",
        "\n",
        "        current = self.head\n",
        "        while current.next:\n",
        "            current = current.next\n",
        "        current.next = new_node\n",
        "\n",
        "\n",
        "if __name__ == '__main__':\n",
        "    llist = LinkedList()\n",
        "\n",
        "    llist.head = Node(\"A\")\n",
        "    second = Node(\"B\")\n",
        "    third = Node(\"C\")\n",
        "    fourth = Node(\"D\")\n",
        "\n",
        "    llist.head.next = second\n",
        "    second.next = third\n",
        "    third.next = fourth\n",
        "\n",
        "    print(\"Original list:\")\n",
        "    llist.print_data()\n",
        "\n",
        "    # Insert a new node at the end\n",
        "    llist.insert_at_end(\"E\")\n",
        "    print(\"\\nAfter inserting 'E' at the end, the result is:\")\n",
        "    llist.print_data()\n"
      ],
      "metadata": {
        "colab": {
          "base_uri": "https://localhost:8080/"
        },
        "id": "hAP4aJJ9ipmn",
        "outputId": "14e52557-1d39-48ac-bcac-d689607d681b"
      },
      "execution_count": 31,
      "outputs": [
        {
          "output_type": "stream",
          "name": "stdout",
          "text": [
            "Original list:\n",
            "A\n",
            "B\n",
            "C\n",
            "D\n",
            "\n",
            "After inserting 'E' at the end, the result is:\n",
            "A\n",
            "B\n",
            "C\n",
            "D\n",
            "E\n"
          ]
        }
      ]
    }
  ]
}