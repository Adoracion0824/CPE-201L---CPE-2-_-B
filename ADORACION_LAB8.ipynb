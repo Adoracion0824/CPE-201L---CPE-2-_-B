{
  "nbformat": 4,
  "nbformat_minor": 0,
  "metadata": {
    "colab": {
      "provenance": [],
      "authorship_tag": "ABX9TyMMIjS9SZqIsU8Re9Wbt9+K",
      "include_colab_link": true
    },
    "kernelspec": {
      "name": "python3",
      "display_name": "Python 3"
    },
    "language_info": {
      "name": "python"
    }
  },
  "cells": [
    {
      "cell_type": "markdown",
      "metadata": {
        "id": "view-in-github",
        "colab_type": "text"
      },
      "source": [
        "<a href=\"https://colab.research.google.com/github/Adoracion0824/CPE-201L---CPE-2-_-B/blob/main/ADORACION_LAB8.ipynb\" target=\"_parent\"><img src=\"https://colab.research.google.com/assets/colab-badge.svg\" alt=\"Open In Colab\"/></a>"
      ]
    },
    {
      "cell_type": "code",
      "execution_count": 17,
      "metadata": {
        "colab": {
          "base_uri": "https://localhost:8080/"
        },
        "id": "CawdxabbBG91",
        "outputId": "cf2acf05-b456-4708-a3e9-e416f886f4bc"
      },
      "outputs": [
        {
          "output_type": "stream",
          "name": "stdout",
          "text": [
            "Pushed Element: 1\n",
            "Pushed Element: 2\n",
            "Pushed Element: 3\n",
            "Pushed Element: 4\n",
            "Pushed Element: 5\n",
            "\n",
            "The elements in the stack are:['1', '2', '3', '4', '5']\n"
          ]
        }
      ],
      "source": [
        "# Stack implementation in python\n",
        "\n",
        "\n",
        "# Creating a stack\n",
        "def create_stack():\n",
        "    stack = []\n",
        "    return stack\n",
        "\n",
        "\n",
        "# Creating an empty stack\n",
        "def is_empty(stack):\n",
        "    return len(stack) == 0\n",
        "\n",
        "# Adding items into the stack\n",
        "def push(stack, item):\n",
        "    stack.append(item)\n",
        "    print(\"Pushed Element: \" + item)\n",
        "\n",
        "# Removing an element from the stack\n",
        "def pop(stack):\n",
        "    if (is_empty(stack)):\n",
        "        return \"The stack is empty\"\n",
        "    return stack.pop()\n",
        "\n",
        "stack = create_stack()\n",
        "push(stack, str(1))\n",
        "push(stack, str(2))\n",
        "push(stack, str(3))\n",
        "push(stack, str(4))\n",
        "push(stack, str(5))\n",
        "\n",
        "print(\"\\nThe elements in the stack are:\"+ str(stack))\n",
        "\n"
      ]
    },
    {
      "cell_type": "markdown",
      "source": [
        "added pop function and getting the length of the stack"
      ],
      "metadata": {
        "id": "ox0M0ABWGt2p"
      }
    },
    {
      "cell_type": "code",
      "source": [
        "# Stack implementation in python\n",
        "\n",
        "\n",
        "# Creating a stack\n",
        "def create_stack():\n",
        "    stack = []\n",
        "    return stack\n",
        "\n",
        "\n",
        "# Creating an empty stack\n",
        "def is_empty(stack):\n",
        "    return len(stack) == 0\n",
        "\n",
        "# Adding items into the stack\n",
        "def push(stack, item):\n",
        "    stack.append(item)\n",
        "    print(\"Pushed Element: \" + item)\n",
        "\n",
        "# Getting the length of the stack before popping\n",
        "def size(stack):\n",
        "    return len(stack)\n",
        "\n",
        "\n",
        "# Removing an element from the stack\n",
        "def pop(stack):\n",
        "    if (is_empty(stack)):\n",
        "        return \"The stack is empty\"\n",
        "    return stack.pop()\n",
        "\n",
        "# Getting the length of the stack after popping\n",
        "def new_size(stack):\n",
        "    return len(stack)\n",
        "\n",
        "stack = create_stack()\n",
        "push(stack, str(1))\n",
        "push(stack, str(2))\n",
        "push(stack, str(3))\n",
        "push(stack, str(4))\n",
        "push(stack, str(5))\n",
        "\n",
        "print(\"\\nThe elements in the stack are:\"+ str(stack))\n",
        "\n",
        "print(\"\\nThe length of the stack is:\" + str(size(stack)))\n",
        "\n",
        "popped = [pop(stack) for _ in range(3)]\n",
        "\n",
        "print(\"\\nThe popped elements are: \" + str(popped))\n",
        "\n",
        "print(\"\\nAfter popping elements, the stack contains: \" + str(stack))\n",
        "\n",
        "print(\"\\nThe length of the stack is now:\" + str(new_size(stack)))"
      ],
      "metadata": {
        "colab": {
          "base_uri": "https://localhost:8080/"
        },
        "id": "kvIwsL_MGqAl",
        "outputId": "4168f477-4624-4711-9719-80d88af5bcd9"
      },
      "execution_count": 41,
      "outputs": [
        {
          "output_type": "stream",
          "name": "stdout",
          "text": [
            "Pushed Element: 1\n",
            "Pushed Element: 2\n",
            "Pushed Element: 3\n",
            "Pushed Element: 4\n",
            "Pushed Element: 5\n",
            "\n",
            "The elements in the stack are:['1', '2', '3', '4', '5']\n",
            "\n",
            "The length of the stack is:5\n",
            "\n",
            "The popped elements are: ['5', '4', '3']\n",
            "\n",
            "After popping elements, the stack contains: ['1', '2']\n",
            "\n",
            "The length of the stack is now:2\n"
          ]
        }
      ]
    }
  ]
}