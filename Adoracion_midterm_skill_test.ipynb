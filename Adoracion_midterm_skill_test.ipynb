{
  "cells": [
    {
      "cell_type": "markdown",
      "metadata": {
        "id": "view-in-github",
        "colab_type": "text"
      },
      "source": [
        "<a href=\"https://colab.research.google.com/github/Adoracion0824/CPE-201L---CPE-2-_-B/blob/main/Adoracion_midterm_skill_test.ipynb\" target=\"_parent\"><img src=\"https://colab.research.google.com/assets/colab-badge.svg\" alt=\"Open In Colab\"/></a>"
      ]
    },
    {
      "cell_type": "code",
      "source": [
        "array_int = [\n",
        "    i for i in range(20, 50)\n",
        "      if i % 2 == 0\n",
        "]\n",
        "print(\"The Elements on my list are:\")\n",
        "print(array_int)\n",
        "\n",
        "def length_array():\n",
        "    array_int = [\n",
        "        i for i in range(20, 50)\n",
        "        if i % 2 == 0\n",
        "    ]\n",
        "    count = 0\n",
        "    for i in array_int:\n",
        "        count += 1\n",
        "    return count\n",
        "\n",
        "def traverse_odd_array():\n",
        "    array_odd_int = [\n",
        "        i for i in range(20, 50)\n",
        "        if i % 2 != 0\n",
        "    ]\n",
        "    print(\"The odd integers are:\")\n",
        "    print(array_odd_int)\n",
        "    return len(array_odd_int)\n",
        "\n",
        "def traverse_even_array():\n",
        "    array_even_int = [\n",
        "        i for i in range(20, 50)\n",
        "        if i % 2 == 0\n",
        "\n",
        "    ]\n",
        "    print(\"The even integers are:\")\n",
        "    print(array_even_int)\n",
        "    return len(array_even_int)\n",
        "\n",
        "\n",
        "while True:\n",
        "  print(\"\\nMenu:\")\n",
        "  print(\"1. Count the Elements of the array\")\n",
        "  print(\"2. Count the number of Odd integers and display the list\")\n",
        "  print(\"3. Count the number of Even integers and display the list\")\n",
        "  print(\"4. Exit\")\n",
        "  choice = input(\"\\nEnter your choice (1 to 4): \")\n",
        "\n",
        "\n",
        "\n",
        "  if choice == '1':\n",
        "   length = length_array()\n",
        "   print(\"The length of the array is:\", length)\n",
        "\n",
        "  elif choice == '2':\n",
        "   odd_count = traverse_odd_array()\n",
        "   print(\"The number of odd integers is:\", odd_count)\n",
        "\n",
        "  elif choice == '3':\n",
        "    even_count = traverse_even_array()\n",
        "    print(\"The number of even integers is:\", even_count)\n",
        "\n",
        "\n",
        "  elif choice == '4':\n",
        "    print(\"Exiting...\")\n",
        "    break"
      ],
      "metadata": {
        "id": "Tur5Z39Bzahf",
        "outputId": "7d17e3ef-88f2-46fe-ce0d-8c57cb11f98d",
        "colab": {
          "base_uri": "https://localhost:8080/"
        }
      },
      "execution_count": 2,
      "outputs": [
        {
          "output_type": "stream",
          "name": "stdout",
          "text": [
            "The Elements on my list are:\n",
            "[20, 22, 24, 26, 28, 30, 32, 34, 36, 38, 40, 42, 44, 46, 48]\n",
            "\n",
            "Menu:\n",
            "1. Count the Elements of the array\n",
            "2. Count the number of Odd integers and display the list\n",
            "3. Count the number of Even integers and display the list\n",
            "4. Exit\n",
            "\n",
            "Enter your choice (1 to 4): 1\n",
            "The length of the array is: 15\n",
            "\n",
            "Menu:\n",
            "1. Count the Elements of the array\n",
            "2. Count the number of Odd integers and display the list\n",
            "3. Count the number of Even integers and display the list\n",
            "4. Exit\n",
            "\n",
            "Enter your choice (1 to 4): 2\n",
            "The odd integers are:\n",
            "[21, 23, 25, 27, 29, 31, 33, 35, 37, 39, 41, 43, 45, 47, 49]\n",
            "The number of odd integers is: 15\n",
            "\n",
            "Menu:\n",
            "1. Count the Elements of the array\n",
            "2. Count the number of Odd integers and display the list\n",
            "3. Count the number of Even integers and display the list\n",
            "4. Exit\n",
            "\n",
            "Enter your choice (1 to 4): 3\n",
            "The even integers are:\n",
            "[20, 22, 24, 26, 28, 30, 32, 34, 36, 38, 40, 42, 44, 46, 48]\n",
            "The number of even integers is: 15\n",
            "\n",
            "Menu:\n",
            "1. Count the Elements of the array\n",
            "2. Count the number of Odd integers and display the list\n",
            "3. Count the number of Even integers and display the list\n",
            "4. Exit\n",
            "\n",
            "Enter your choice (1 to 4): 4\n",
            "Exiting...\n"
          ]
        }
      ]
    }
  ],
  "metadata": {
    "colab": {
      "provenance": [],
      "include_colab_link": true
    },
    "kernelspec": {
      "display_name": "Python 3",
      "name": "python3"
    }
  },
  "nbformat": 4,
  "nbformat_minor": 0
}