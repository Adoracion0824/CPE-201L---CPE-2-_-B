{
  "nbformat": 4,
  "nbformat_minor": 0,
  "metadata": {
    "colab": {
      "provenance": [],
      "authorship_tag": "ABX9TyMWqlQI4v5IJzrFceIgU6Sp",
      "include_colab_link": true
    },
    "kernelspec": {
      "name": "python3",
      "display_name": "Python 3"
    },
    "language_info": {
      "name": "python"
    }
  },
  "cells": [
    {
      "cell_type": "markdown",
      "metadata": {
        "id": "view-in-github",
        "colab_type": "text"
      },
      "source": [
        "<a href=\"https://colab.research.google.com/github/Adoracion0824/CPE-201L---CPE-2-_-B/blob/main/ADORACION_LABORATORY_9.ipynb\" target=\"_parent\"><img src=\"https://colab.research.google.com/assets/colab-badge.svg\" alt=\"Open In Colab\"/></a>"
      ]
    },
    {
      "cell_type": "code",
      "execution_count": 10,
      "metadata": {
        "colab": {
          "base_uri": "https://localhost:8080/"
        },
        "id": "Ui6fnPMD9r3n",
        "outputId": "db8ae6f0-e2f9-42f0-9dee-027840a95091"
      },
      "outputs": [
        {
          "output_type": "stream",
          "name": "stdout",
          "text": [
            "Enqueued Element: 1\n",
            "Enqueued Element: 2\n",
            "Enqueued Element: 3\n",
            "Enqueued Element: 4\n",
            "Enqueued Element: 5\n",
            "\n",
            "The elements in the queue are: ['1', '2', '3', '4', '5']\n",
            "\n",
            "Dequeued Element: 1\n",
            "\n",
            "Queue after one dequeue: ['2', '3', '4', '5']\n"
          ]
        }
      ],
      "source": [
        "# Queue implementation in python\n",
        "\n",
        "# Creating a queue\n",
        "def create_queue():\n",
        "    queue = []\n",
        "    return queue\n",
        "\n",
        "\n",
        "# Creating an empty queue\n",
        "def is_empty(queue):\n",
        "    return len(queue) == 0\n",
        "\n",
        "# Adding items into the queue\n",
        "def enqueue(queue, item):\n",
        "    queue.append(item)\n",
        "    print(\"Enqueued Element: \" + item)\n",
        "\n",
        "\n",
        "def dequeue(queue):\n",
        "    if is_empty(queue):\n",
        "        return \"The queue is empty\"\n",
        "    return queue.pop(0)\n",
        "\n",
        "queue = create_queue()\n",
        "\n",
        "\n",
        "for i in range(1, 6):\n",
        "    enqueue(queue, str(i))\n",
        "\n",
        "print(\"\\nThe elements in the queue are: \" + str(queue))\n",
        "\n",
        "print(\"\\nDequeued Element: \" + dequeue(queue))\n",
        "print(\"\\nQueue after one dequeue: \" + str(queue))\n"
      ]
    }
  ]
}