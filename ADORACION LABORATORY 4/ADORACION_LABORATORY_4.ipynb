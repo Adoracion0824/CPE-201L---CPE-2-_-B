{
  "cells": [
    {
      "cell_type": "markdown",
      "metadata": {
        "id": "view-in-github",
        "colab_type": "text"
      },
      "source": [
        "<a href=\"https://colab.research.google.com/github/Adoracion0824/CPE-201L---CPE-2-_-B/blob/main/ADORACION_LABORATORY_4.ipynb\" target=\"_parent\"><img src=\"https://colab.research.google.com/assets/colab-badge.svg\" alt=\"Open In Colab\"/></a>"
      ]
    },
    {
      "cell_type": "code",
      "execution_count": 18,
      "metadata": {
        "colab": {
          "base_uri": "https://localhost:8080/"
        },
        "id": "3L-QJ3ilt041",
        "outputId": "6e0fd6ff-0de7-423e-8ac5-045c047994ad"
      },
      "outputs": [
        {
          "output_type": "stream",
          "name": "stdout",
          "text": [
            "=== Jenna's Grocery List ===\n",
            "Item: Apple | its Price is: 10.0 | its Quantity is: 5 | its Total is: 50.0\n",
            "Item: Banana | its Price is: 8.5 | its Quantity is: 6 | its Total is: 51.0\n",
            "Item: Carrot | its Price is: 5.0 | its Quantity is: 10 | its Total is: 50.0\n",
            "Item: Lettuce | its Price is: 15.0 | its Quantity is: 2 | its Total is: 30.0\n",
            "Item: Orange | its Price is: 12.0 | its Quantity is: 4 | its Total is: 48.0\n",
            "\n",
            "Total cost: 229.0\n",
            "\n",
            "Lettuce deleted from list.\n",
            "\n",
            "Total cost after removing Lettuce: 199.0\n"
          ]
        }
      ],
      "source": [
        "class GroceryItem:\n",
        "    def __init__(self, name=\"\", price=0.0, quantity=0):\n",
        "        self.name = name\n",
        "        self.price = price\n",
        "        self.quantity = quantity\n",
        "\n",
        "    def calculate_sum(self):\n",
        "        return self.price * self.quantity\n",
        "\n",
        "    def display(self):\n",
        "        print(f\"Item: {self.name} | its Price is: {self.price} | its Quantity is: {self.quantity} | its Total is: {self.calculate_sum()}\")\n",
        "\n",
        "    def get_name(self):\n",
        "        return self.name\n",
        "\n",
        "\n",
        "class Fruit(GroceryItem):\n",
        "    def __init__(self, name, price, quantity):\n",
        "        super().__init__(name, price, quantity)\n",
        "\n",
        "\n",
        "class Vegetable(GroceryItem):\n",
        "    def __init__(self, name, price, quantity):\n",
        "        super().__init__(name, price, quantity)\n",
        "\n",
        "\n",
        "def total_sum(grocery_list):\n",
        "    return sum(item.calculate_sum() for item in grocery_list if item is not None)\n",
        "\n",
        "\n",
        "def main():\n",
        "    # Create grocery list\n",
        "    GroceryList = [\n",
        "        Fruit(\"Apple\", 10.0, 5),\n",
        "        Fruit(\"Banana\", 8.5, 6),\n",
        "        Vegetable(\"Carrot\", 5.0, 10),\n",
        "        Vegetable(\"Lettuce\", 15.0, 2),\n",
        "        Fruit(\"Orange\", 12.0, 4)\n",
        "    ]\n",
        "\n",
        "    print(\"=== Jenna's Grocery List ===\")\n",
        "    for item in GroceryList:\n",
        "        item.display()\n",
        "\n",
        "    print(f\"\\nTotal cost: {total_sum(GroceryList)}\")\n",
        "\n",
        "    # Delete Lettuce on the list\n",
        "    for i in range(len(GroceryList)):\n",
        "        if GroceryList[i] is not None and GroceryList[i].get_name() == \"Lettuce\":\n",
        "            print(\"\\nLettuce deleted from list.\")\n",
        "            GroceryList[i] = None\n",
        "\n",
        "    print(f\"\\nTotal cost after removing Lettuce: {total_sum(GroceryList)}\")\n",
        "\n",
        "\n",
        "if __name__ == \"__main__\":\n",
        "    main()\n"
      ]
    }
  ],
  "metadata": {
    "colab": {
      "provenance": [],
      "authorship_tag": "ABX9TyOUoLPIX1MpsQdL3eBMTznB",
      "include_colab_link": true
    },
    "kernelspec": {
      "display_name": "Python 3",
      "name": "python3"
    },
    "language_info": {
      "name": "python"
    }
  },
  "nbformat": 4,
  "nbformat_minor": 0
}