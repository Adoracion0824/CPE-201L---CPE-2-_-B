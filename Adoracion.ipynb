{
  "cells": [
    {
      "cell_type": "markdown",
      "metadata": {
        "id": "view-in-github",
        "colab_type": "text"
      },
      "source": [
        "<a href=\"https://colab.research.google.com/github/Anemoii/CPE-201L---CPE-2-_-B/blob/main/Adoracion.ipynb\" target=\"_parent\"><img src=\"https://colab.research.google.com/assets/colab-badge.svg\" alt=\"Open In Colab\"/></a>"
      ]
    },
    {
      "cell_type": "code",
      "source": [
        "import cmath\n",
        "\n",
        "radius = input (\"Radius: \")\n",
        "area = cmath.pi * float (radius) ** 2\n",
        "\n",
        "print(\"Area of circle is\", area)"
      ],
      "metadata": {
        "id": "x3hEyeQ-bqMH",
        "outputId": "58d835ce-b3a3-4ff1-bfd6-8ac344e56331",
        "colab": {
          "base_uri": "https://localhost:8080/"
        }
      },
      "execution_count": 7,
      "outputs": [
        {
          "output_type": "stream",
          "name": "stdout",
          "text": [
            "Radius: 45\n",
            "Area of circle is 6361.725123519331\n"
          ]
        }
      ]
    },
    {
      "cell_type": "code",
      "source": [
        "import cmath\n",
        "\n",
        "diameter = input (\"Diameter: \")\n",
        "area = cmath.pi/4 * float (diameter) ** 2\n",
        "\n",
        "print(\"Area of circle is\", area)\n",
        "\n"
      ],
      "metadata": {
        "id": "VDHBswhCb0Wk",
        "outputId": "6e755496-25cd-45a0-bd47-a3cc7b275dc1",
        "colab": {
          "base_uri": "https://localhost:8080/"
        }
      },
      "execution_count": 9,
      "outputs": [
        {
          "output_type": "stream",
          "name": "stdout",
          "text": [
            "Diameter: 13\n",
            "Area of circle is 132.73228961416876\n"
          ]
        }
      ]
    }
  ],
  "metadata": {
    "colab": {
      "name": "Welcome To Colab",
      "provenance": [],
      "include_colab_link": true
    },
    "kernelspec": {
      "display_name": "Python 3",
      "name": "python3"
    }
  },
  "nbformat": 4,
  "nbformat_minor": 0
}