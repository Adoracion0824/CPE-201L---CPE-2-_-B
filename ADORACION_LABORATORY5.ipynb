{
  "nbformat": 4,
  "nbformat_minor": 0,
  "metadata": {
    "colab": {
      "provenance": [],
      "authorship_tag": "ABX9TyOrvb8UScHo3APtZIItDapB",
      "include_colab_link": true
    },
    "kernelspec": {
      "name": "python3",
      "display_name": "Python 3"
    },
    "language_info": {
      "name": "python"
    }
  },
  "cells": [
    {
      "cell_type": "markdown",
      "metadata": {
        "id": "view-in-github",
        "colab_type": "text"
      },
      "source": [
        "<a href=\"https://colab.research.google.com/github/Adoracion0824/CPE-201L---CPE-2-_-B/blob/main/ADORACION_LABORATORY5.ipynb\" target=\"_parent\"><img src=\"https://colab.research.google.com/assets/colab-badge.svg\" alt=\"Open In Colab\"/></a>"
      ]
    },
    {
      "cell_type": "markdown",
      "source": [
        "**Displaying the array items and element each indexes**\n",
        "\n"
      ],
      "metadata": {
        "id": "-inFF_oNxcid"
      }
    },
    {
      "cell_type": "code",
      "source": [
        "import array as arr\n",
        "\n",
        "numbers = arr.array(\"i\", [1,2,3,4,5,6,7,8,9,10])\n",
        "\n",
        "sum = 0\n",
        "index = 0\n",
        "\n",
        "while index < len(numbers):\n",
        "  sum += numbers[index]\n",
        "  index += 1\n",
        "\n",
        "list_numbers = numbers.tolist()\n",
        "items = []\n",
        "\n",
        "#setting the output\n",
        "print(f\"Items in the Array:\")\n",
        "for arrayitem in list_numbers:\n",
        "  if arrayitem == len(list_numbers):\n",
        "    print(arrayitem, end = \" \")\n",
        "  else:\n",
        "    print(arrayitem, end = \", \")\n",
        "\n",
        "print(f\"\\n\\nThe sum of the array is: {sum}\")\n"
      ],
      "metadata": {
        "colab": {
          "base_uri": "https://localhost:8080/"
        },
        "id": "8k0E0KUuxX-v",
        "outputId": "054830ed-344a-43b4-ba73-207f7da62193"
      },
      "execution_count": 5,
      "outputs": [
        {
          "output_type": "stream",
          "name": "stdout",
          "text": [
            "Items in the Array:\n",
            "1, 2, 3, 4, 5, 6, 7, 8, 9, 10 \n",
            "\n",
            "The sum of the array is: 55\n"
          ]
        }
      ]
    },
    {
      "cell_type": "markdown",
      "source": [
        "**Appending a new item at the end**"
      ],
      "metadata": {
        "id": "VWjTgAb5zX-P"
      }
    },
    {
      "cell_type": "code",
      "source": [
        "import array as arr\n",
        "import copy\n",
        "\n",
        "numbers = arr.array(\"i\", [1,2,3,4,5,6,7,8,9,10])\n",
        "new_num = copy.copy(numbers)\n",
        "new_num.append(11)\n",
        "\n",
        "#Displaying the Original Array\n",
        "print(f\"Original Array: {numbers.tolist()}\")\n",
        "\n",
        "print(\"\\nAfter appending a new item, here's the result:\")\n",
        "#Displaying the New Array\n",
        "print(f\"\\nNew Array: {new_num.tolist()}\")\n",
        "\n"
      ],
      "metadata": {
        "colab": {
          "base_uri": "https://localhost:8080/"
        },
        "id": "tWpMf9LPyt-_",
        "outputId": "066230dd-2b3f-4dcc-e4c8-e827f7aced91"
      },
      "execution_count": 16,
      "outputs": [
        {
          "output_type": "stream",
          "name": "stdout",
          "text": [
            "Original Array: [1, 2, 3, 4, 5, 6, 7, 8, 9, 10]\n",
            "\n",
            "After appending a new item here's the result\n",
            "\n",
            "New Array: [1, 2, 3, 4, 5, 6, 7, 8, 9, 10, 11]\n"
          ]
        }
      ]
    },
    {
      "cell_type": "markdown",
      "source": [
        " Inserting a new item before the second element"
      ],
      "metadata": {
        "id": "na0y855ezoiG"
      }
    },
    {
      "cell_type": "code",
      "source": [
        "import array as arr\n",
        "import copy\n",
        "\n",
        "numbers = arr.array(\"i\", [1,2,3,4,5,6,7,8,9,10])\n",
        "new_num = copy.copy(numbers)\n",
        "new_num.insert(1,20)\n",
        "\n",
        "print(f\"Original Array: {numbers.tolist()}\")\n",
        "print(\"\\nAfter inserting a new item before the second element, here's the result:\")\n",
        "print(f\"\\nNew Array: {new_num.tolist()}\")\n",
        ""
      ],
      "metadata": {
        "colab": {
          "base_uri": "https://localhost:8080/"
        },
        "id": "tnHydCoNzvEN",
        "outputId": "9ee44b49-00af-4a37-cd01-97f0bd570f02"
      },
      "execution_count": 18,
      "outputs": [
        {
          "output_type": "stream",
          "name": "stdout",
          "text": [
            "Original Array: [1, 2, 3, 4, 5, 6, 7, 8, 9, 10]\n",
            "\n",
            "After inserting a new item before the second element, here's the result:\n",
            "\n",
            "New Array: [1, 20, 2, 3, 4, 5, 6, 7, 8, 9, 10]\n"
          ]
        }
      ]
    },
    {
      "cell_type": "markdown",
      "source": [
        "**Reversing the order of items**"
      ],
      "metadata": {
        "id": "pm5FuvhB0goG"
      }
    },
    {
      "cell_type": "code",
      "source": [
        "import array as arr\n",
        "import copy\n",
        "\n",
        "numbers = arr.array(\"i\", [5,4,3,2,1])\n",
        "new_num = copy.copy(numbers)\n",
        "new_num.reverse()\n",
        "\n",
        "print(f\"Original Array: {numbers.tolist()}\")\n",
        "print(\"\\nAfter reversing the order of items, here's the result:\")\n",
        "print(f\"\\nNew Array: {new_num.tolist()}\")"
      ],
      "metadata": {
        "id": "hC77A1wf0rH9",
        "outputId": "2296c2de-03f3-4699-ae6d-0b12a925964c",
        "colab": {
          "base_uri": "https://localhost:8080/"
        }
      },
      "execution_count": 20,
      "outputs": [
        {
          "output_type": "stream",
          "name": "stdout",
          "text": [
            "Original Array: [5, 4, 3, 2, 1]\n",
            "\n",
            "After reversing the order of items, here's the result:\n",
            "\n",
            "New Array: [1, 2, 3, 4, 5]\n"
          ]
        }
      ]
    },
    {
      "cell_type": "markdown",
      "source": [
        "**Getting the length of the array**"
      ],
      "metadata": {
        "id": "a1ph17nl09Pe"
      }
    },
    {
      "cell_type": "code",
      "source": [
        "import array as arr\n",
        "\n",
        "numbers = arr.array(\"i\", [5,4,3,2,1])\n",
        "\n",
        "print(f\"Original array: {numbers.tolist()}\")\n",
        "print(f\"The length of the array is: {len(numbers)}\")"
      ],
      "metadata": {
        "id": "2-VBIAZs1HWF",
        "outputId": "e8dca74a-4430-4b49-c53c-5094b12a8235",
        "colab": {
          "base_uri": "https://localhost:8080/"
        }
      },
      "execution_count": 21,
      "outputs": [
        {
          "output_type": "stream",
          "name": "stdout",
          "text": [
            "Original array: [5, 4, 3, 2, 1]\n",
            "The length of the array is: 5\n"
          ]
        }
      ]
    }
  ]
}