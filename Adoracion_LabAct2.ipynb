{
  "nbformat": 4,
  "nbformat_minor": 0,
  "metadata": {
    "colab": {
      "provenance": [],
      "authorship_tag": "ABX9TyMDOHZ6HPil6Suuj9KTJe2E",
      "include_colab_link": true
    },
    "kernelspec": {
      "name": "python3",
      "display_name": "Python 3"
    },
    "language_info": {
      "name": "python"
    }
  },
  "cells": [
    {
      "cell_type": "markdown",
      "metadata": {
        "id": "view-in-github",
        "colab_type": "text"
      },
      "source": [
        "<a href=\"https://colab.research.google.com/github/Adoracion0824/CPE-201L---CPE-2-_-B/blob/main/Adoracion_LabAct2.ipynb\" target=\"_parent\"><img src=\"https://colab.research.google.com/assets/colab-badge.svg\" alt=\"Open In Colab\"/></a>"
      ]
    },
    {
      "cell_type": "code",
      "execution_count": 4,
      "metadata": {
        "colab": {
          "base_uri": "https://localhost:8080/"
        },
        "id": "5xEdLeWueMHM",
        "outputId": "bc879d9d-ee90-487d-f489-c5cdf892332a"
      },
      "outputs": [
        {
          "output_type": "stream",
          "name": "stdout",
          "text": [
            "Lowest: 4 | Highest: 2006\n"
          ]
        }
      ],
      "source": [
        "def find_range(dataset):\n",
        "    if not dataset:\n",
        "        return None, None\n",
        "    low = high = dataset[0]\n",
        "    for value in dataset[1:]:\n",
        "        low = value if value < low else low\n",
        "        high = value if value > high else high\n",
        "    return low, high\n",
        "\n",
        "values = [4, 24, 8, 6, 2006]\n",
        "smallest, largest = find_range(values)\n",
        "print(f\"Lowest: {smallest} | Highest: {largest}\")"
      ]
    }
  ]
}