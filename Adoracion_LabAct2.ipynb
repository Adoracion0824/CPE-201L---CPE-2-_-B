{
  "nbformat": 4,
  "nbformat_minor": 0,
  "metadata": {
    "colab": {
      "provenance": [],
      "authorship_tag": "ABX9TyN9HIGPrLYbLh5RI21o9pK7",
      "include_colab_link": true
    },
    "kernelspec": {
      "name": "python3",
      "display_name": "Python 3"
    },
    "language_info": {
      "name": "python"
    }
  },
  "cells": [
    {
      "cell_type": "markdown",
      "metadata": {
        "id": "view-in-github",
        "colab_type": "text"
      },
      "source": [
        "<a href=\"https://colab.research.google.com/github/Adoracion0824/CPE-201L---CPE-2-_-B/blob/main/Adoracion_LabAct2.ipynb\" target=\"_parent\"><img src=\"https://colab.research.google.com/assets/colab-badge.svg\" alt=\"Open In Colab\"/></a>"
      ]
    },
    {
      "cell_type": "code",
      "execution_count": 1,
      "metadata": {
        "colab": {
          "base_uri": "https://localhost:8080/"
        },
        "id": "5xEdLeWueMHM",
        "outputId": "18bf0ce8-7bfb-4141-ce63-4a6aef3eb4e5"
      },
      "outputs": [
        {
          "output_type": "stream",
          "name": "stdout",
          "text": [
            "Min 4\n",
            "Max 2006\n"
          ]
        }
      ],
      "source": [
        "def find_min_max(seq) :\n",
        "  if len(seq) == 1:\n",
        "    return seq[0], seq[0]\n",
        "\n",
        "  else:\n",
        "      min_rest, max_rest = find_min_max(seq[ 1:])\n",
        "      return min(seq[0], min_rest), max(seq[0], max_rest)\n",
        "\n",
        "numbers = [4, 24, 8, 6, 2006]\n",
        "minimum, maximum = find_min_max(numbers)\n",
        "print (\"Min\", minimum)\n",
        "print (\"Max\", maximum)"
      ]
    }
  ]
}