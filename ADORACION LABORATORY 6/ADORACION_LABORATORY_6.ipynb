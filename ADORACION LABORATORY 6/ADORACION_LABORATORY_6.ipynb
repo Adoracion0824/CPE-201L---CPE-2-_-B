{
  "cells": [
    {
      "cell_type": "markdown",
      "metadata": {
        "id": "view-in-github",
        "colab_type": "text"
      },
      "source": [
        "<a href=\"https://colab.research.google.com/github/Adoracion0824/CPE-201L---CPE-2-_-B/blob/main/ADORACION_LABORATORY_6.ipynb\" target=\"_parent\"><img src=\"https://colab.research.google.com/assets/colab-badge.svg\" alt=\"Open In Colab\"/></a>"
      ]
    },
    {
      "cell_type": "code",
      "source": [
        "class LinkedListNode:\n",
        "    def __init__(self, prime_num, nextNode=None):\n",
        "        self.prime_num = prime_num\n",
        "        self.nextNode = nextNode\n",
        "\n",
        "\n",
        "#adding a limit function since the numbers to be used are only less than 20\n",
        "class LinkedList:\n",
        "    def __init__(self, limit=20, head=None, tail=None):\n",
        "        self.limit = limit\n",
        "        self.head = head\n",
        "        self.tail = tail\n",
        "\n",
        "    def insert(self, prime_num):\n",
        "        if prime_num > self.limit:\n",
        "            print(f\"\\n{prime_num} exceeds the limit ({self.limit}) and will not be inserted.\")\n",
        "            return\n",
        "\n",
        "        node = LinkedListNode(prime_num)\n",
        "        if self.head is None:  # If list is empty\n",
        "            self.head = node\n",
        "            self.tail = node\n",
        "        else:\n",
        "            self.tail.nextNode = node\n",
        "            self.tail = node\n",
        "\n",
        "    def display(self):\n",
        "        current = self.head\n",
        "        while current is not None:\n",
        "            print(current.prime_num, \"->\", end= \" \")\n",
        "            current = current.nextNode\n",
        "        print(None)\n",
        "\n",
        "    def show_head(self):\n",
        "        if self.head is not None:\n",
        "            print(f\"Head: {self.head.prime_num}\")\n",
        "        else:\n",
        "            print(\"The list is empty.\")\n",
        "\n",
        "    def show_tail(self):\n",
        "        if self.tail is not None:\n",
        "            print(f\"Tail: {self.tail.prime_num}\")\n",
        "        else:\n",
        "            print(\"The list is empty.\")\n",
        "\n",
        "\n",
        "\n",
        "ll = LinkedList(limit=20)\n",
        "\n",
        "ll.show_head()  # to show head is empty\n",
        "primes = [2, 3, 5, 7, 11, 13, 17, 19, 23, 29]  # I included 23, and 29 to test the limit\n",
        "\n",
        "for p in primes:\n",
        "    ll.insert(p)\n",
        "    ll.display()\n",
        "\n",
        "ll.show_head()\n",
        "ll.show_tail()"
      ],
      "metadata": {
        "colab": {
          "base_uri": "https://localhost:8080/"
        },
        "id": "MdOH10IdE-3B",
        "outputId": "419e3deb-9817-4e76-dd7c-d3b0b2dfd572"
      },
      "execution_count": null,
      "outputs": [
        {
          "output_type": "stream",
          "name": "stdout",
          "text": [
            "The list is empty.\n",
            "2 -> None\n",
            "2 -> 3 -> None\n",
            "2 -> 3 -> 5 -> None\n",
            "2 -> 3 -> 5 -> 7 -> None\n",
            "2 -> 3 -> 5 -> 7 -> 11 -> None\n",
            "2 -> 3 -> 5 -> 7 -> 11 -> 13 -> None\n",
            "2 -> 3 -> 5 -> 7 -> 11 -> 13 -> 17 -> None\n",
            "2 -> 3 -> 5 -> 7 -> 11 -> 13 -> 17 -> 19 -> None\n",
            "\n",
            "23 exceeds the limit (20) and will not be inserted.\n",
            "2 -> 3 -> 5 -> 7 -> 11 -> 13 -> 17 -> 19 -> None\n",
            "\n",
            "29 exceeds the limit (20) and will not be inserted.\n",
            "2 -> 3 -> 5 -> 7 -> 11 -> 13 -> 17 -> 19 -> None\n",
            "Head: 2\n",
            "Tail: 19\n"
          ]
        }
      ]
    }
  ],
  "metadata": {
    "colab": {
      "toc_visible": true,
      "provenance": [],
      "include_colab_link": true
    },
    "kernelspec": {
      "display_name": "Python 3",
      "name": "python3"
    }
  },
  "nbformat": 4,
  "nbformat_minor": 0
}